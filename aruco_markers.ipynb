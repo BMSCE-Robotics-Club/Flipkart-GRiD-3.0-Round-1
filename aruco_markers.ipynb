{
 "cells": [
  {
   "cell_type": "code",
   "execution_count": null,
   "metadata": {},
   "outputs": [],
   "source": [
    "# %conda install imutils"
   ]
  },
  {
   "cell_type": "code",
   "execution_count": null,
   "metadata": {
    "id": "jULtcEmy5FMH"
   },
   "outputs": [],
   "source": [
    "import numpy as np\n",
    "import cv2\n",
    "import imutils\n",
    "import sys\n",
    "from imutils.video import VideoStream\n",
    "import time"
   ]
  },
  {
   "cell_type": "code",
   "execution_count": null,
   "metadata": {
    "id": "NmEXAZc96f6J"
   },
   "outputs": [],
   "source": [
    "# define names of each possible ArUco tag OpenCV supports\n",
    "ARUCO_DICT = {\n",
    "\t\"DICT_4X4_50\": cv2.aruco.DICT_4X4_50,\n",
    "\t\"DICT_4X4_100\": cv2.aruco.DICT_4X4_100,\n",
    "\t\"DICT_4X4_250\": cv2.aruco.DICT_4X4_250,\n",
    "\t\"DICT_4X4_1000\": cv2.aruco.DICT_4X4_1000,\n",
    "\t\"DICT_5X5_50\": cv2.aruco.DICT_5X5_50,\n",
    "\t\"DICT_5X5_100\": cv2.aruco.DICT_5X5_100,\n",
    "\t\"DICT_5X5_250\": cv2.aruco.DICT_5X5_250,\n",
    "\t\"DICT_5X5_1000\": cv2.aruco.DICT_5X5_1000,\n",
    "\t\"DICT_6X6_50\": cv2.aruco.DICT_6X6_50,\n",
    "\t\"DICT_6X6_100\": cv2.aruco.DICT_6X6_100,\n",
    "\t\"DICT_6X6_250\": cv2.aruco.DICT_6X6_250,\n",
    "\t\"DICT_6X6_1000\": cv2.aruco.DICT_6X6_1000,\n",
    "\t\"DICT_7X7_50\": cv2.aruco.DICT_7X7_50,\n",
    "\t\"DICT_7X7_100\": cv2.aruco.DICT_7X7_100,\n",
    "\t\"DICT_7X7_250\": cv2.aruco.DICT_7X7_250,\n",
    "\t\"DICT_7X7_1000\": cv2.aruco.DICT_7X7_1000,\n",
    "\t\"DICT_ARUCO_ORIGINAL\": cv2.aruco.DICT_ARUCO_ORIGINAL,\n",
    "\t\"DICT_APRILTAG_16h5\": cv2.aruco.DICT_APRILTAG_16h5,\n",
    "\t\"DICT_APRILTAG_25h9\": cv2.aruco.DICT_APRILTAG_25h9,\n",
    "\t\"DICT_APRILTAG_36h10\": cv2.aruco.DICT_APRILTAG_36h10,\n",
    "\t\"DICT_APRILTAG_36h11\": cv2.aruco.DICT_APRILTAG_36h11\n",
    "}"
   ]
  },
  {
   "cell_type": "code",
   "execution_count": null,
   "metadata": {
    "id": "HKHY7EcI5JSU"
   },
   "outputs": [],
   "source": [
    "output = \"/content/drive/MyDrive/robotics_club/tags/\"\n",
    "\n",
    "def generate(id,dict_type,dim):\n",
    "  # verify that the supplied ArUCo type is supported by OpenCV\n",
    "  if ARUCO_DICT.get(dict_type, None) is None:\n",
    "    print(\"[INFO] ArUCo tag of '{}' is not supported\".format(dict_type))\n",
    "    sys.exit(0)\n",
    "\n",
    "  # load the ArUCo dictionary\n",
    "  arucoDict = cv2.aruco.Dictionary_get(ARUCO_DICT[dict_type])\n",
    "\n",
    "  # draw the ArUCo tag on the output image\n",
    "  print(\"[INFO] generating ArUCo tag type '{}' with ID '{}'\".format(dict_type, id))\n",
    "  tag = np.zeros((dim, dim, 1), dtype=\"uint8\")\n",
    "  cv2.aruco.drawMarker(arucoDict, id, dim, tag, 1)\n",
    "  # write the generated ArUCo tag to disk and then display it to our screen\n",
    "  cv2.imwrite(output+'id_{}.png'.format(id), tag)\n",
    "  cv2.waitKey(0)"
   ]
  },
  {
   "cell_type": "code",
   "execution_count": null,
   "metadata": {
    "colab": {
     "base_uri": "https://localhost:8080/"
    },
    "id": "wgpj6hBy8EdA",
    "outputId": "370051a4-5053-402b-c0b8-b1e6248f8aac"
   },
   "outputs": [],
   "source": [
    "generate(74,\"DICT_5X5_100\",300)\n",
    "generate(52,\"DICT_5X5_100\",300)\n",
    "generate(13,\"DICT_5X5_100\",300)\n",
    "generate(35,\"DICT_5X5_100\",300)\n",
    "generate(96,\"DICT_5X5_100\",300)"
   ]
  },
  {
   "cell_type": "code",
   "execution_count": null,
   "metadata": {
    "id": "B0vgivx7o_tM"
   },
   "outputs": [],
   "source": [
    "def detect_video(dict_type):\n",
    "\n",
    "  if ARUCO_DICT.get(dict_type, None) is None:\n",
    "    print(\"[INFO] ArUCo tag of '{}' is not supported\".format(dict_type))\n",
    "    sys.exit(0)\n",
    "  \n",
    "  print(\"[INFO] detecting '{}' tags...\".format(dict_type))\n",
    "  arucoDict = cv2.aruco.Dictionary_get(ARUCO_DICT[dict_type])\n",
    "  arucoParams = cv2.aruco.DetectorParameters_create()\n",
    "    \n",
    "  print(\"[INFO] starting video stream...\")\n",
    "  vs = VideoStream(src=0).start()\n",
    "  time.sleep(2.0)\n",
    "\n",
    "  # loop over the frames from the video stream\n",
    "  while True:\n",
    "    frame = vs.read()\n",
    "    frame = imutils.resize(frame, width=1000)\n",
    "    # detect ArUco markers in the input frame\n",
    "    (corners, ids, rejected) = cv2.aruco.detectMarkers(frame,\n",
    "                              arucoDict, parameters=arucoParams)\n",
    "    \n",
    "    if len(corners) > 0:\n",
    "      \n",
    "      ids = ids.flatten()\n",
    "      \n",
    "      for (markerCorner, markerID) in zip(corners, ids):\n",
    "        # extract the marker corners \n",
    "        corners = markerCorner.reshape((4, 2))\n",
    "        (topLeft, topRight, bottomRight, bottomLeft) = corners\n",
    "        # convert each of the (x, y)-coordinate pairs to integers\n",
    "        topRight = (int(topRight[0]), int(topRight[1]))\n",
    "        bottomRight = (int(bottomRight[0]), int(bottomRight[1]))\n",
    "        bottomLeft = (int(bottomLeft[0]), int(bottomLeft[1]))\n",
    "        topLeft = (int(topLeft[0]), int(topLeft[1]))\n",
    "\n",
    "        # draw the bounding box of the ArUCo detection\n",
    "        cv2.line(frame, topLeft, topRight, (0, 255, 0), 2)\n",
    "        cv2.line(frame, topRight, bottomRight, (0, 255, 0), 2)\n",
    "        cv2.line(frame, bottomRight, bottomLeft, (0, 255, 0), 2)\n",
    "        cv2.line(frame, bottomLeft, topLeft, (0, 255, 0), 2)\n",
    "        # compute and draw the center (x, y)-coordinates of the\n",
    "        # ArUco marker\n",
    "        cX = int((topLeft[0] + bottomRight[0]) / 2.0)\n",
    "        cY = int((topLeft[1] + bottomRight[1]) / 2.0)\n",
    "        cv2.circle(frame, (cX, cY), 4, (0, 0, 255), -1)\n",
    "        # draw the ArUco marker ID on the frame\n",
    "        cv2.putText(frame, str(markerID),\n",
    "          (topLeft[0], topLeft[1] - 15),\n",
    "          cv2.FONT_HERSHEY_SIMPLEX,\n",
    "          0.5, (0, 255, 0), 2)\n",
    "        \n",
    "    # show the output frame\n",
    "    cv2.imshow(\"Frame\", frame)\n",
    "    key = cv2.waitKey(1) & 0xFF\n",
    "    # if the `q` key was pressed, break from the loop\n",
    "    if key == ord(\"q\"):\n",
    "      break\n",
    "\n",
    "  # do a bit of cleanup\n",
    "  cv2.destroyAllWindows()\n",
    "  vs.stop()"
   ]
  },
  {
   "cell_type": "code",
   "execution_count": null,
   "metadata": {},
   "outputs": [],
   "source": [
    "detect_video(\"DICT_5X5_100\")"
   ]
  },
  {
   "cell_type": "code",
   "execution_count": null,
   "metadata": {},
   "outputs": [],
   "source": []
  }
 ],
 "metadata": {
  "colab": {
   "name": "aruco_markers.ipynb",
   "provenance": []
  },
  "kernelspec": {
   "display_name": "Python 3",
   "language": "python",
   "name": "python3"
  },
  "language_info": {
   "codemirror_mode": {
    "name": "ipython",
    "version": 3
   },
   "file_extension": ".py",
   "mimetype": "text/x-python",
   "name": "python",
   "nbconvert_exporter": "python",
   "pygments_lexer": "ipython3",
   "version": "3.8.8"
  }
 },
 "nbformat": 4,
 "nbformat_minor": 1
}
